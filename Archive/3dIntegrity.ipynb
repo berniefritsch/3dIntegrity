{
 "cells": [
  {
   "cell_type": "code",
   "execution_count": 28,
   "metadata": {},
   "outputs": [],
   "source": [
    "import pymeshlab as ml\n",
    "ms = ml.MeshSet()\n",
    "#import pymeshlab\n",
    "#ms = pymeshlab.MeshSet()\n",
    "\n",
    "#import matplotlib"
   ]
  },
  {
   "cell_type": "code",
   "execution_count": 29,
   "metadata": {},
   "outputs": [
    {
     "name": "stdout",
     "output_type": "stream",
     "text": [
      "Loaded successfully\n"
     ]
    }
   ],
   "source": [
    "# Load 3D model\n",
    "# Mesh\n",
    "ms.load_mesh('Data/FeetMesh.ply')\n",
    "\n",
    "# Pointcloud\n",
    "#ms.load_mesh('Data/FeetPC.ply')\n",
    "\n",
    "# Broken Mesh\n",
    "#ms.load_mesh('Data/FeetBroken.ply')\n",
    "\n",
    "# OBJ with texture\n",
    "#ms.load_mesh('Data/OBJcomplete/Feet.obj')\n",
    "\n",
    "# OBJ with one missing texture\n",
    "#ms.load_mesh('Data/OBJbroken/Feet.obj')\n",
    "\n",
    "print('Loaded successfully')\n"
   ]
  },
  {
   "cell_type": "code",
   "execution_count": 30,
   "metadata": {},
   "outputs": [],
   "source": [
    "# Show 3D"
   ]
  },
  {
   "cell_type": "code",
   "execution_count": 31,
   "metadata": {},
   "outputs": [
    {
     "name": "stdout",
     "output_type": "stream",
     "text": [
      "<pymeshlab.meshlab.Mesh object at 0x000000F8871182B0>\n",
      "1\n",
      "None\n"
     ]
    }
   ],
   "source": [
    "# Name and number of Mesh\n",
    "\n",
    "current = ms.current_mesh()\n",
    "number = ms.number_meshes()\n",
    "status = ms.print_status()\n",
    "\n",
    "print(current)\n",
    "print(number)\n",
    "print(status)\n"
   ]
  },
  {
   "cell_type": "code",
   "execution_count": 32,
   "metadata": {},
   "outputs": [
    {
     "name": "stdout",
     "output_type": "stream",
     "text": [
      "17871\n",
      "35393\n"
     ]
    }
   ],
   "source": [
    "# Number of vertices and faces\n",
    "num_verts =  ms.current_mesh().vertex_number() \n",
    "num_face =  ms.current_mesh().face_number() \n",
    "print(num_verts)\n",
    "print(num_face)\n"
   ]
  },
  {
   "cell_type": "code",
   "execution_count": 33,
   "metadata": {
    "scrolled": true
   },
   "outputs": [
    {
     "name": "stdout",
     "output_type": "stream",
     "text": [
      "Mesh\n"
     ]
    }
   ],
   "source": [
    "# Mesh or Pointcloud\n",
    "\n",
    "if num_face > 0:\n",
    "    print('Mesh')\n",
    "if num_face == 0 and num_verts > 0:\n",
    "    print('Pointcloud')"
   ]
  },
  {
   "cell_type": "code",
   "execution_count": 34,
   "metadata": {
    "scrolled": true
   },
   "outputs": [
    {
     "name": "stdout",
     "output_type": "stream",
     "text": [
      "None\n",
      "None\n",
      "None\n"
     ]
    }
   ],
   "source": [
    "# Manifoldness\n",
    "\n",
    "verbose = ms.set_versbosity(True)\n",
    "print(verbose)\n",
    "nmedges = ms.apply_filter('select_non_manifold_edges_')\n",
    "nmvert = ms.apply_filter('select_non_manifold_vertices')\n",
    "print(nmedges)\n",
    "print(nmvert)"
   ]
  },
  {
   "cell_type": "code",
   "execution_count": 35,
   "metadata": {},
   "outputs": [],
   "source": [
    "# Duplicated vertices\n",
    "# Position\n",
    "# Texture File\n",
    "# Georef oder nicht"
   ]
  },
  {
   "cell_type": "code",
   "execution_count": 36,
   "metadata": {},
   "outputs": [
    {
     "name": "stdout",
     "output_type": "stream",
     "text": [
      "**Receipt:**\n",
      "Status: Loades successfully\n",
      "Number of Meshes: 1\n",
      "Number of Faces: 35393\n",
      "Number of Vertices: 17871\n"
     ]
    }
   ],
   "source": [
    "# Receipt (Export as PDF)\n",
    " \n",
    "print('**Receipt:**')\n",
    "print('Status:','Loaded successfully')\n",
    "print('Number of Meshes:', number)\n",
    "print('Number of Faces:', num_face)\n",
    "print('Number of Vertices:', num_verts)"
   ]
  }
 ],
 "metadata": {
  "kernelspec": {
   "display_name": "Python 3",
   "language": "python",
   "name": "python3"
  },
  "language_info": {
   "codemirror_mode": {
    "name": "ipython",
    "version": 3
   },
   "file_extension": ".py",
   "mimetype": "text/x-python",
   "name": "python",
   "nbconvert_exporter": "python",
   "pygments_lexer": "ipython3",
   "version": "3.7.6"
  }
 },
 "nbformat": 4,
 "nbformat_minor": 4
}
