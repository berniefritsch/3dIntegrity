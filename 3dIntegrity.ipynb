{
 "cells": [
  {
   "cell_type": "code",
   "execution_count": 199,
   "metadata": {},
   "outputs": [],
   "source": [
    "import pymeshlab as ml\n",
    "ms = ml.MeshSet()\n",
    "#import pymeshlab\n",
    "#ms = pymeshlab.MeshSet()\n",
    "\n",
    "#import matplotlib"
   ]
  },
  {
   "cell_type": "code",
   "execution_count": 200,
   "metadata": {},
   "outputs": [
    {
     "name": "stdout",
     "output_type": "stream",
     "text": [
      "Loaded successfully\n"
     ]
    }
   ],
   "source": [
    "# Load 3D model\n",
    "# Mesh\n",
    "#ms.load_mesh('Mesh_Test.ply')\n",
    "\n",
    "# Pointcloud\n",
    "#ms.load_mesh('PW_Test.ply')\n",
    "\n",
    "# Broken Mesh\n",
    "#ms.load_mesh('3D_korrupt.ply')\n",
    "\n",
    "# OBJ with texture\n",
    "ms.load_mesh('Head of Buddha - 5K TRIS.obj')\n",
    "\n",
    "print('Loaded successfully')\n"
   ]
  },
  {
   "cell_type": "code",
   "execution_count": 201,
   "metadata": {},
   "outputs": [],
   "source": [
    "# Show 3D"
   ]
  },
  {
   "cell_type": "code",
   "execution_count": 202,
   "metadata": {},
   "outputs": [
    {
     "name": "stdout",
     "output_type": "stream",
     "text": [
      "<pymeshlab.meshlab.Mesh object at 0x000000AC18821870>\n",
      "1\n",
      "None\n"
     ]
    }
   ],
   "source": [
    "# Name and number of Mesh\n",
    "\n",
    "current = ms.current_mesh()\n",
    "number = ms.number_meshes()\n",
    "status = ms.print_status()\n",
    "\n",
    "print(current)\n",
    "print(number)\n",
    "print(status)\n"
   ]
  },
  {
   "cell_type": "code",
   "execution_count": 203,
   "metadata": {},
   "outputs": [
    {
     "name": "stdout",
     "output_type": "stream",
     "text": [
      "12329\n",
      "6167\n"
     ]
    }
   ],
   "source": [
    "# Number of vertices and faces\n",
    "num_verts =  ms.current_mesh().vertex_number() \n",
    "num_face =  ms.current_mesh().face_number() \n",
    "print(num_face)\n",
    "print(num_verts)"
   ]
  },
  {
   "cell_type": "code",
   "execution_count": 204,
   "metadata": {
    "scrolled": true
   },
   "outputs": [
    {
     "name": "stdout",
     "output_type": "stream",
     "text": [
      "Mesh\n"
     ]
    }
   ],
   "source": [
    "# Mesh or Pointcloud\n",
    "\n",
    "if num_face > 0:\n",
    "    print('Mesh')\n",
    "if num_face == 0 and num_verts > 0:\n",
    "    print('Pointcloud')"
   ]
  },
  {
   "cell_type": "code",
   "execution_count": 205,
   "metadata": {
    "scrolled": true
   },
   "outputs": [
    {
     "name": "stdout",
     "output_type": "stream",
     "text": [
      "None\n",
      "None\n",
      "None\n"
     ]
    }
   ],
   "source": [
    "# Manifoldness\n",
    "\n",
    "verbose = ms.set_versbosity(True)\n",
    "print(verbose)\n",
    "nmedges = ms.apply_filter('select_non_manifold_edges_')\n",
    "nmvert = ms.apply_filter('select_non_manifold_vertices')\n",
    "print(nmedges)\n",
    "print(nmvert)"
   ]
  },
  {
   "cell_type": "code",
   "execution_count": 206,
   "metadata": {},
   "outputs": [],
   "source": [
    "# Duplicated vertices\n",
    "# Position\n",
    "# Texture File\n",
    "# Georef oder nicht"
   ]
  },
  {
   "cell_type": "code",
   "execution_count": 207,
   "metadata": {},
   "outputs": [
    {
     "name": "stdout",
     "output_type": "stream",
     "text": [
      "**Receipt:**\n",
      "Status: Loades successfully\n",
      "Number of Meshes: 1\n",
      "Number of Faces: 12329\n",
      "Number of Vertices: 6167\n"
     ]
    }
   ],
   "source": [
    "# Receipt (Export as PDF)\n",
    " \n",
    "print('**Receipt:**')\n",
    "print('Status:','Loades successfully')\n",
    "print('Number of Meshes:', number)\n",
    "print('Number of Faces:', num_face)\n",
    "print('Number of Vertices:', num_verts)"
   ]
  }
 ],
 "metadata": {
  "kernelspec": {
   "display_name": "Python 3",
   "language": "python",
   "name": "python3"
  },
  "language_info": {
   "codemirror_mode": {
    "name": "ipython",
    "version": 3
   },
   "file_extension": ".py",
   "mimetype": "text/x-python",
   "name": "python",
   "nbconvert_exporter": "python",
   "pygments_lexer": "ipython3",
   "version": "3.7.6"
  }
 },
 "nbformat": 4,
 "nbformat_minor": 4
}
